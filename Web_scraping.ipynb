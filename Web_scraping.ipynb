


from urllib.request import urlopen
from bs4 import BeautifulSoup
import pandas as pd
import numpy as np

import requests
import urllib.request
import time 

pages = np.arange(1,5,1)

link = []
kats = []
isimler = []
fiyatlar = []
asd = soup.find_all("div",{"class" : "item-info"})
for i, value in enumerate(pages):
    
    get_url = "https://davetcokelbisemyok.com/bridal-kiralik-gelinlik?pg=" + str(value)
    link.append(get_url)
    page = requests.get(link[i])
    soup = BeautifulSoup(page.content, 'html.parser')
    #asd = soup.find_all("div",{"class" : "item-info"})
    
    for prod in asd:
 
        kat = prod.find("h3",{"class" : "no-right-margin"}).text.replace("\n","").strip()
        isim = prod.find("span",{"class" : "product-terms"}).text.replace("\n","").strip()
        fiyat = prod.find("span",{"class" : "amount"}).text.replace("\n","").strip()
        kats.append(kat)
        isimler.append(isim)
        fiyatlar.append(fiyat)
print(isimler)

df = pd.DataFrame({'isimler':isimler,'fiyatlar':fiyatlar}) 

df.to_csv('rentisthenewch_kiralik.csv', index=False, encoding='utf-8')
    
